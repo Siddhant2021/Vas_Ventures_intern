{
 "cells": [
  {
   "cell_type": "code",
   "execution_count": 2,
   "metadata": {},
   "outputs": [
    {
     "ename": "WebDriverException",
     "evalue": "Message: Service /Users/siddhant/Coding_Lectures/Vas_Ventures/chromedriver unexpectedly exited. Status code was: -9\n",
     "output_type": "error",
     "traceback": [
      "\u001b[0;31m---------------------------------------------------------------------------\u001b[0m",
      "\u001b[0;31mWebDriverException\u001b[0m                        Traceback (most recent call last)",
      "Cell \u001b[0;32mIn[2], line 7\u001b[0m\n\u001b[1;32m      4\u001b[0m USERNAME \u001b[39m=\u001b[39m \u001b[39m\"\u001b[39m\u001b[39msiddhantsinghai6666@gmail.com\u001b[39m\u001b[39m\"\u001b[39m\n\u001b[1;32m      5\u001b[0m PASSWORD \u001b[39m=\u001b[39m \u001b[39m\"\u001b[39m\u001b[39msiddhantisgreat\u001b[39m\u001b[39m\"\u001b[39m\n\u001b[0;32m----> 7\u001b[0m driver \u001b[39m=\u001b[39m webdriver\u001b[39m.\u001b[39;49mChrome(executable_path \u001b[39m=\u001b[39;49m \u001b[39m'\u001b[39;49m\u001b[39m/Users/siddhant/Coding_Lectures/Vas_Ventures/chromedriver\u001b[39;49m\u001b[39m'\u001b[39;49m)\n\u001b[1;32m      8\u001b[0m driver\u001b[39m.\u001b[39mget(\u001b[39m\"\u001b[39m\u001b[39mhttps://www.facebook.com\u001b[39m\u001b[39m\"\u001b[39m)\n\u001b[1;32m     10\u001b[0m user_name_box \u001b[39m=\u001b[39m driver\u001b[39m.\u001b[39mfind_element_by_id(\u001b[39m\"\u001b[39m\u001b[39memail\u001b[39m\u001b[39m\"\u001b[39m)\n",
      "File \u001b[0;32m~/opt/miniconda3/lib/python3.9/site-packages/selenium/webdriver/chrome/webdriver.py:73\u001b[0m, in \u001b[0;36mWebDriver.__init__\u001b[0;34m(self, executable_path, port, options, service_args, desired_capabilities, service_log_path, chrome_options, keep_alive)\u001b[0m\n\u001b[1;32m     66\u001b[0m         desired_capabilities\u001b[39m.\u001b[39mupdate(options\u001b[39m.\u001b[39mto_capabilities())\n\u001b[1;32m     68\u001b[0m \u001b[39mself\u001b[39m\u001b[39m.\u001b[39mservice \u001b[39m=\u001b[39m Service(\n\u001b[1;32m     69\u001b[0m     executable_path,\n\u001b[1;32m     70\u001b[0m     port\u001b[39m=\u001b[39mport,\n\u001b[1;32m     71\u001b[0m     service_args\u001b[39m=\u001b[39mservice_args,\n\u001b[1;32m     72\u001b[0m     log_path\u001b[39m=\u001b[39mservice_log_path)\n\u001b[0;32m---> 73\u001b[0m \u001b[39mself\u001b[39;49m\u001b[39m.\u001b[39;49mservice\u001b[39m.\u001b[39;49mstart()\n\u001b[1;32m     75\u001b[0m \u001b[39mtry\u001b[39;00m:\n\u001b[1;32m     76\u001b[0m     RemoteWebDriver\u001b[39m.\u001b[39m\u001b[39m__init__\u001b[39m(\n\u001b[1;32m     77\u001b[0m         \u001b[39mself\u001b[39m,\n\u001b[1;32m     78\u001b[0m         command_executor\u001b[39m=\u001b[39mChromeRemoteConnection(\n\u001b[1;32m     79\u001b[0m             remote_server_addr\u001b[39m=\u001b[39m\u001b[39mself\u001b[39m\u001b[39m.\u001b[39mservice\u001b[39m.\u001b[39mservice_url,\n\u001b[1;32m     80\u001b[0m             keep_alive\u001b[39m=\u001b[39mkeep_alive),\n\u001b[1;32m     81\u001b[0m         desired_capabilities\u001b[39m=\u001b[39mdesired_capabilities)\n",
      "File \u001b[0;32m~/opt/miniconda3/lib/python3.9/site-packages/selenium/webdriver/common/service.py:98\u001b[0m, in \u001b[0;36mService.start\u001b[0;34m(self)\u001b[0m\n\u001b[1;32m     96\u001b[0m count \u001b[39m=\u001b[39m \u001b[39m0\u001b[39m\n\u001b[1;32m     97\u001b[0m \u001b[39mwhile\u001b[39;00m \u001b[39mTrue\u001b[39;00m:\n\u001b[0;32m---> 98\u001b[0m     \u001b[39mself\u001b[39;49m\u001b[39m.\u001b[39;49massert_process_still_running()\n\u001b[1;32m     99\u001b[0m     \u001b[39mif\u001b[39;00m \u001b[39mself\u001b[39m\u001b[39m.\u001b[39mis_connectable():\n\u001b[1;32m    100\u001b[0m         \u001b[39mbreak\u001b[39;00m\n",
      "File \u001b[0;32m~/opt/miniconda3/lib/python3.9/site-packages/selenium/webdriver/common/service.py:109\u001b[0m, in \u001b[0;36mService.assert_process_still_running\u001b[0;34m(self)\u001b[0m\n\u001b[1;32m    107\u001b[0m return_code \u001b[39m=\u001b[39m \u001b[39mself\u001b[39m\u001b[39m.\u001b[39mprocess\u001b[39m.\u001b[39mpoll()\n\u001b[1;32m    108\u001b[0m \u001b[39mif\u001b[39;00m return_code \u001b[39mis\u001b[39;00m \u001b[39mnot\u001b[39;00m \u001b[39mNone\u001b[39;00m:\n\u001b[0;32m--> 109\u001b[0m     \u001b[39mraise\u001b[39;00m WebDriverException(\n\u001b[1;32m    110\u001b[0m         \u001b[39m'\u001b[39m\u001b[39mService \u001b[39m\u001b[39m%s\u001b[39;00m\u001b[39m unexpectedly exited. Status code was: \u001b[39m\u001b[39m%s\u001b[39;00m\u001b[39m'\u001b[39m\n\u001b[1;32m    111\u001b[0m         \u001b[39m%\u001b[39m (\u001b[39mself\u001b[39m\u001b[39m.\u001b[39mpath, return_code)\n\u001b[1;32m    112\u001b[0m     )\n",
      "\u001b[0;31mWebDriverException\u001b[0m: Message: Service /Users/siddhant/Coding_Lectures/Vas_Ventures/chromedriver unexpectedly exited. Status code was: -9\n"
     ]
    }
   ],
   "source": [
    "from selenium import webdriver\n",
    "import time\n",
    "\n",
    "USERNAME = \"siddhantsinghai6666@gmail.com\"\n",
    "PASSWORD = \"siddhantisgreat\"\n",
    "\n",
    "driver = webdriver.Chrome(executable_path = '/Users/siddhant/Coding_Lectures/Vas_Ventures/chromedriver')\n",
    "driver.get(\"https://www.facebook.com\")\n",
    "\n",
    "user_name_box = driver.find_element_by_id(\"email\")\n",
    "user_name_box.send_keys(USERNAME)\n",
    "\n",
    "password_box = driver.find_element_by_id(\"pass\")\n",
    "password_box.send_keys(PASSWORD)\n",
    "\n",
    "login_box = driver.find_element_by_id('loginbutton') \n",
    "login_box.click()\n",
    "print(\"login successful!!!\")\n",
    "time.sleep(3)\n",
    "right_buttons = driver.find_elements_by_xpath(\"//*[@class= 'cxgpxx05 sj5x9vvc']\")\n",
    "right_buttons[1].click()\n",
    "time.sleep(1)\n",
    "birthday_boxes = driver.find_elements_by_xpath(\"//*[contains(@aria-label, 'Birthdays')]//*[@class='_1mf _1mj']\")\n",
    "count = 0\n",
    "for els in birthday_boxes:\n",
    "    try:\n",
    "        count +=1\n",
    "        els.send_keys(\"Happy birthday!\")\n",
    "        els.send_keys(Keys.RETURN) \n",
    "        print(\"Birthday Wish posted for friend\" + str(count)) \n",
    "    except:\n",
    "        print(\"couldn't post\")\n",
    "\n",
    "print(\"done\")\n",
    "time.sleep(2)\n",
    "driver.close()"
   ]
  }
 ],
 "metadata": {
  "kernelspec": {
   "display_name": "base",
   "language": "python",
   "name": "python3"
  },
  "language_info": {
   "codemirror_mode": {
    "name": "ipython",
    "version": 3
   },
   "file_extension": ".py",
   "mimetype": "text/x-python",
   "name": "python",
   "nbconvert_exporter": "python",
   "pygments_lexer": "ipython3",
   "version": "3.9.12"
  },
  "orig_nbformat": 4
 },
 "nbformat": 4,
 "nbformat_minor": 2
}
